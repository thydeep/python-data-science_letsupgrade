{
  "nbformat": 4,
  "nbformat_minor": 0,
  "metadata": {
    "colab": {
      "name": "Python for Data Science Day 2.ipynb",
      "provenance": []
    },
    "kernelspec": {
      "name": "python3",
      "display_name": "Python 3"
    },
    "language_info": {
      "name": "python"
    }
  },
  "cells": [
    {
      "cell_type": "code",
      "metadata": {
        "colab": {
          "base_uri": "https://localhost:8080/"
        },
        "id": "wP_S82h2Jet_",
        "outputId": "da9460d0-fc7b-4df1-c04c-1ae467afd662"
      },
      "source": [
        "list1 = [10, 21, 4, 45, 66, 93]\n",
        "  \n",
        "# using list comprehension\n",
        "even_nos = [num for num in list1 if num % 2 == 0]\n",
        "  \n",
        "print(\"Even numbers in the list: \", even_nos)"
      ],
      "execution_count": 2,
      "outputs": [
        {
          "output_type": "stream",
          "name": "stdout",
          "text": [
            "Even numbers in the list:  [10, 4, 66]\n"
          ]
        }
      ]
    }
  ]
}